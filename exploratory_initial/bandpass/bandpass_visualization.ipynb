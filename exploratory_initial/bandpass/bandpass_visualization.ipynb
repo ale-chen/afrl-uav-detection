{
 "cells": [
  {
   "cell_type": "code",
   "execution_count": null,
   "metadata": {},
   "outputs": [],
   "source": [
    "import numpy as np\n",
    "import matplotlib.pyplot as plt\n",
    "import scipy.io.wavfile as wavfile\n",
    "from scipy.signal import butter, lfilter, freqz\n",
    "\n",
    "import os"
   ]
  },
  {
   "cell_type": "code",
   "execution_count": null,
   "metadata": {},
   "outputs": [],
   "source": [
    "def butter_bandpass(lowcut, highcut, fs, order=5):\n",
    "    nyq = .5*fs\n",
    "    low = lowcut/nyq\n",
    "    high = highcut/nyq\n",
    "    b,a = butter(order, [low,high],btype = 'band')\n",
    "    return b,a\n",
    "\n",
    "def butter_bandpass_filter(data,lowcut,highcuyt,fs,order=5):\n",
    "    b,a = butter_bandpass(lowcut,highcut,fs,order=order)\n",
    "    y = lfilter(b,a,data)\n",
    "    return y"
   ]
  },
  {
   "cell_type": "code",
   "execution_count": null,
   "metadata": {},
   "outputs": [],
   "source": [
    "fs,data = wavfile.read('C:\\Users\\Alec\\Desktop\\GE_Mod_Intern_Workshop\\WorkBench_2024\\DataStores\\Acoustic\\Escape_Acoustic_Data\\ESII_from_Z\\ESCAPE_FORMAT_ONECHANNEL\\sA3r03\\p01\\d302\\d302sA3r03p0120210827.wav')\n",
    "\n",
    "segment_length = 30 * fs\n",
    "segments = [data[i:i+segment_length] for i in range(0,len(data),segment_length)]\n",
    "\n",
    "freq_ranges = [(0,3000),(3000,6000),(6000,9000),(9000,12000)]"
   ]
  },
  {
   "cell_type": "code",
   "execution_count": null,
   "metadata": {},
   "outputs": [],
   "source": [
    "fig_full, ax_full = plt.subplots(figsize = (10,4))\n",
    "ax_full.plot(np.arange(len(data))/fs,data)\n",
    "ax_full.set_xlabel('Time (s)')\n",
    "ax_full.set_ylabel('Amplitude')\n",
    "ax_full.set_title('Full Timeseries')\n",
    "\n",
    "fig_full.savefig('full_timeseries.png')\n",
    "\n",
    "for i, segment in enumerate(segments):\n",
    "    fig_segment,axes_segment = plt.subplots(4,2,figsize=(12,16))\n",
    "    fig_segment.suptitle(f'Segment {i+1}')\n",
    "\n",
    "    axes_segment[0,0].plot(np.arange(len(segment)/fs, segment))\n",
    "    axes_segment[0,0].set_xlabel('Time (s)')\n",
    "    axes_segment[0,0].set_ylabel('Amplitude')\n",
    "    axes_segment[0,0].set_title('Segment Timeseries')\n",
    "\n",
    "    for j, (lowcut,highcut) in enumerate(freq_ranges):\n",
    "        filtered_segment = butter_bandpass_filter(segment,lowcut,highcut,fs)\n",
    "\n",
    "        axes_segment[j+1, 1].plot(w*fs/(2*np.pi),20*np.log10(abs(h)))\n",
    "        axes_segment[j+1, 1].set_xlabel('Frequency (Hz)')\n",
    "        axes_segment[j+1, 1].set_ylabel('Magnitude (dB)')\n",
    "        axes_segment[j+1, 1].set_title(f'Bandpass Filter ({lowcut}-{highcut} Hz)')\n",
    "    \n",
    "    fig_segment.tight_layout(rect=[0,0.03,1,0.95])\n",
    "    fig_segment.savefig(f'segment_{i+1}.png')"
   ]
  },
  {
   "cell_type": "code",
   "execution_count": null,
   "metadata": {},
   "outputs": [],
   "source": []
  }
 ],
 "metadata": {
  "language_info": {
   "name": "python"
  }
 },
 "nbformat": 4,
 "nbformat_minor": 2
}
