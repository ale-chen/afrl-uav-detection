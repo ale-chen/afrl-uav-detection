{
 "cells": [
  {
   "cell_type": "markdown",
   "id": "ce6b0fdd-3aa4-4cd5-a5e7-f4364358226d",
   "metadata": {},
   "source": [
    "Take combinations of ESC and anechoic data to be added as drone samples\n",
    "Augment ESC data with pitch shifting\n",
    "\n",
    "Potentially: augment full dataset with frequency masking\n",
    "maybe add gaussian noise or white noise to some samples?"
   ]
  },
  {
   "cell_type": "code",
   "execution_count": 1,
   "id": "f4cbc2de-b91a-42e9-b469-196138a3ecb4",
   "metadata": {},
   "outputs": [],
   "source": [
    "import librosa\n",
    "import numpy as np\n",
    "import os\n",
    "import matplotlib.pyplot as plt\n",
    "from sklearn.preprocessing import MinMaxScaler, StandardScaler\n",
    "from glob import glob\n",
    "import pandas as pd\n",
    "from numpy import random\n",
    "from scipy.io import wavfile"
   ]
  },
  {
   "cell_type": "code",
   "execution_count": 8,
   "id": "a0e993ee-7769-4005-a125-fa1b40bc8b2d",
   "metadata": {},
   "outputs": [],
   "source": [
    "# escape = glob(\"C:\\\\Users\\Alec\\Desktop\\SIT_acoustic\\ESCAPE_FORMAT_ONECHANNEL\\DADSONLY_NEW\\*.wav\")\n",
    "\n",
    "# df = pd.DataFrame({\n",
    "#     'Filename': escape\n",
    "# })\n",
    "\n",
    "# df.to_csv(\"../ESCAPEII.csv\", index=False)"
   ]
  },
  {
   "cell_type": "markdown",
   "id": "ba759091-724f-4633-8452-c6b9f37a5bd2",
   "metadata": {},
   "source": [
    "1. Create 10k new .wav files that consist of a random anechoic file and random ESC 50 file added together"
   ]
  },
  {
   "cell_type": "code",
   "execution_count": 2,
   "id": "7745fb73-6809-496a-b241-96afcedf173d",
   "metadata": {},
   "outputs": [],
   "source": [
    "anech = glob(\"C:\\\\Users\\Alec\\Desktop\\dndMLApproach\\\\anechoic\\*.wav\")\n",
    "ESC50 = glob(\"C:\\\\Users\\Alec\\Desktop\\dndMLApproach\\ESC50\\\\audio\\*.wav\")"
   ]
  },
  {
   "cell_type": "code",
   "execution_count": 216,
   "id": "42d570e4-dfc0-42a1-abd1-e2d04fb50f71",
   "metadata": {},
   "outputs": [],
   "source": [
    "os.chdir(\"C:\\\\Users\\Alec\\Desktop\\dndMLApproach\\combined_augmented\")\n",
    "for i in range(10000):\n",
    "    \n",
    "    anech_sample = random.randint(len(anech))\n",
    "    ESC50_sample = random.randint(len(ESC50))\n",
    "\n",
    "    anech_wav, sr = librosa.load(anech[anech_sample], sr=44100)\n",
    "    ESC50_wav, sr = librosa.load(ESC50[ESC50_sample], sr=44100)\n",
    "\n",
    "    combined_wav = anech_wav + ESC50_wav\n",
    "    \n",
    "    wavfile.write(\"combined_aug\" + \"_\" + str(i) + '.wav', sr, combined_wav)\n"
   ]
  },
  {
   "cell_type": "markdown",
   "id": "26459cc0-95a1-49c6-9279-4cd0a728f2f7",
   "metadata": {},
   "source": [
    "2. Create 20k pitch shifted new .wav files"
   ]
  },
  {
   "cell_type": "code",
   "execution_count": 223,
   "id": "1633148b-4cae-42ea-912f-c4ed3391fb32",
   "metadata": {},
   "outputs": [],
   "source": [
    "os.chdir(\"C:\\\\Users\\Alec\\Desktop\\dndMLApproach\\pitch_shift_augmented\")\n",
    "\n",
    "for i in range(10000):\n",
    "    sample = random.randint(len(anech))\n",
    "    n_steps = (random.randint(11) + 1)\n",
    "    y, sr = librosa.load(anech[sample], sr=44100)\n",
    "    y_shifted = librosa.effects.pitch_shift(y, sr=sr, n_steps=n_steps)\n",
    "\n",
    "    wavfile.write(\"anech_pitch_shifted_aug\" + \"_\" + str(i) + '.wav', sr, y_shifted)\n",
    "\n",
    "for i in range(10000):\n",
    "    sample = random.randint(len(ESC50))\n",
    "    n_steps = (random.randint(11) + 1)\n",
    "    y, sr = librosa.load(ESC50[sample], sr=44100)\n",
    "    y_shifted = librosa.effects.pitch_shift(y, sr=sr, n_steps=n_steps)\n",
    "\n",
    "    wavfile.write(\"ESC50_pitch_shifted_aug\" + \"_\" + str(i) + '.wav', sr, y_shifted)\n"
   ]
  },
  {
   "cell_type": "markdown",
   "id": "387b447c-ceab-4251-8ff3-f8b99cce9568",
   "metadata": {},
   "source": [
    "3. Frequency mask on both anechoic and ESC50"
   ]
  },
  {
   "cell_type": "code",
   "execution_count": 351,
   "id": "a3570602-4281-439d-a53f-d048ed0b6577",
   "metadata": {},
   "outputs": [],
   "source": [
    "os.chdir(\"C:\\\\Users\\Alec\\Desktop\\dndMLApproach\\\\freq_masked_augmented\")\n",
    "\n",
    "for i in range(10000):\n",
    "    sample = random.randint(len(anech))\n",
    "    random_list = [random.randint(50, 1025) for _ in range(10)]\n",
    "    y, sr = librosa.load(anech[sample], sr=44100)\n",
    "    S = librosa.amplitude_to_db(np.abs(librosa.stft(y)), ref=np.max)\n",
    "\n",
    "    for r in random_list:\n",
    "        S[r-50:r, :] = 0\n",
    "\n",
    "    out = librosa.istft(S)\n",
    "\n",
    "    wavfile.write(\"anech_freq_mask_aug\" + \"_\" + str(i) + '.wav', sr, out)\n",
    "\n",
    "\n",
    "for i in range(10000):\n",
    "    sample = random.randint(len(ESC50))\n",
    "    random_list = [random.randint(50, 1025) for _ in range(10)]\n",
    "    y, sr = librosa.load(ESC50[sample], sr=44100)\n",
    "    S = librosa.amplitude_to_db(np.abs(librosa.stft(y)), ref=np.max)\n",
    "\n",
    "    for r in random_list:\n",
    "        S[r-50:r, :] = 0\n",
    "\n",
    "    out = librosa.istft(S)\n",
    "\n",
    "    wavfile.write(\"ESC50_freq_mask_aug\" + \"_\" + str(i) + '.wav', sr, out)"
   ]
  },
  {
   "cell_type": "markdown",
   "id": "d8754a5d-148c-424b-8252-2280c16575e3",
   "metadata": {},
   "source": [
    "4. Generate CSV files for each augmented folder to make it easier for feature extraction"
   ]
  },
  {
   "cell_type": "code",
   "execution_count": 371,
   "id": "40fd7924-bb40-4eaf-915b-46b15dff4cba",
   "metadata": {},
   "outputs": [],
   "source": [
    "os.chdir(\"C:\\\\Users\\Alec\\Desktop\\dndMLApproach\\combined_augmented\")\n",
    "comb = glob(\"*.wav\")\n",
    "comb = [os.path.join(os.getcwd(), file) for file in comb]\n",
    "labels = []\n",
    "for i in range(len(comb)):\n",
    "    labels.append(0)\n",
    "\n",
    "# Create a DataFrame\n",
    "df = pd.DataFrame({\n",
    "    'Filename': comb,\n",
    "    'Label': labels\n",
    "})\n",
    "\n",
    "df.to_csv(\"../combined_augmented.csv\", index=False)"
   ]
  },
  {
   "cell_type": "code",
   "execution_count": 372,
   "id": "620aac80-bdd7-4ca6-9c55-8fa013a4681c",
   "metadata": {},
   "outputs": [],
   "source": [
    "os.chdir(\"C:\\\\Users\\Alec\\Desktop\\dndMLApproach\\pitch_shift_augmented\")\n",
    "pitch = glob(\"*.wav\")\n",
    "pitch = [os.path.join(os.getcwd(), file) for file in pitch]\n",
    "labels = []\n",
    "for f in pitch:\n",
    "    if f.startswith(\"anech\"):\n",
    "        labels.append(0)\n",
    "    else:\n",
    "        labels.append(1)\n",
    "\n",
    "df = pd.DataFrame({\n",
    "    'Filename': pitch,\n",
    "    'Label': labels\n",
    "})\n",
    "\n",
    "df.to_csv(\"../pitch_shift_augmented.csv\", index=False)"
   ]
  },
  {
   "cell_type": "code",
   "execution_count": 373,
   "id": "85718626-b5da-4c48-9fd8-5f7394dfe49a",
   "metadata": {},
   "outputs": [],
   "source": [
    "os.chdir(\"C:\\\\Users\\Alec\\Desktop\\dndMLApproach\\\\freq_masked_augmented\")\n",
    "freq = glob(\"*.wav\")\n",
    "freq = [os.path.join(os.getcwd(), file) for file in freq]\n",
    "labels = []\n",
    "for f in freq:\n",
    "    if f.startswith(\"anech\"):\n",
    "        labels.append(0)\n",
    "    else:\n",
    "        labels.append(1)\n",
    "\n",
    "df = pd.DataFrame({\n",
    "    'Filename': freq,\n",
    "    'Label': labels\n",
    "})\n",
    "\n",
    "df.to_csv(\"../freq_masked_augmented.csv\", index=False)"
   ]
  },
  {
   "cell_type": "code",
   "execution_count": 3,
   "id": "e50bbaa9-9867-4bef-96bc-1c3931800828",
   "metadata": {},
   "outputs": [],
   "source": [
    "os.chdir(\"C:\\\\Users\\Alec\\Desktop\\dndMLApproach\\ESC50\\\\audio\")\n",
    "esc = glob(\"*.wav\")\n",
    "esc = [os.path.join(os.getcwd(), file) for file in esc]\n",
    "labels = []\n",
    "for f in esc:\n",
    "    labels.append(1)\n",
    "\n",
    "df = pd.DataFrame({\n",
    "    'Filename': esc,\n",
    "    'Label': labels\n",
    "})\n",
    "\n",
    "df.to_csv(\"../../esc50.csv\", index=False)"
   ]
  },
  {
   "cell_type": "code",
   "execution_count": 4,
   "id": "c979d3fe-9c97-4cfe-ab3f-3ab8948106d9",
   "metadata": {},
   "outputs": [],
   "source": [
    "os.chdir(\"C:\\\\Users\\Alec\\Desktop\\dndMLApproach\\\\anechoic\")\n",
    "an = glob(\"*.wav\")\n",
    "an = [os.path.join(os.getcwd(), file) for file in an]\n",
    "labels = []\n",
    "for f in an:\n",
    "    labels.append(0)\n",
    "\n",
    "df = pd.DataFrame({\n",
    "    'Filename': an,\n",
    "    'Label': labels\n",
    "})\n",
    "\n",
    "df.to_csv(\"../anechoic.csv\", index=False)"
   ]
  },
  {
   "cell_type": "markdown",
   "id": "f1ce28ae-654e-48e9-8aa2-0be63ec5c595",
   "metadata": {},
   "source": [
    "5. Merge all of the CSVs to generate 1 csv to serve as the master for the training set"
   ]
  },
  {
   "cell_type": "code",
   "execution_count": 5,
   "id": "c4d29fd6-edcc-4c48-a9bf-ef1f190b0816",
   "metadata": {},
   "outputs": [],
   "source": [
    "os.chdir(\"C:\\\\Users\\Alec\\Desktop\\dndMLApproach\")\n",
    "csvs = ['anechoic.csv', 'esc50.csv', 'freq_masked_augmented.csv', 'pitch_shift_augmented.csv', 'combined_augmented.csv']\n",
    "\n",
    "dfs = [pd.read_csv(csv) for csv in csvs]  \n",
    "merged_df = pd.concat(dfs, axis=0)  \n",
    "\n",
    "sorted_df = merged_df.sort_values(by='Label')\n",
    "\n",
    "sorted_df.to_csv('complete_dataset.csv', index=False)\n"
   ]
  },
  {
   "cell_type": "code",
   "execution_count": 380,
   "id": "b91a8acd-501e-4fb7-bf92-4a13f12bde9d",
   "metadata": {},
   "outputs": [],
   "source": [
    "t = \"C:\\\\Users\\Alec\\Desktop\\AnechoicDatasetWork\\anechoic\\DJIM600-FT-A-2426_20191126_chunk1.wav\""
   ]
  },
  {
   "cell_type": "code",
   "execution_count": 382,
   "id": "c7c978b1-ade0-45f1-be52-ef7174630735",
   "metadata": {},
   "outputs": [],
   "source": [
    "test = t.split(\"\\\\\")"
   ]
  },
  {
   "cell_type": "code",
   "execution_count": 384,
   "id": "97e4333c-0d49-45db-adcb-c8ec0f925945",
   "metadata": {},
   "outputs": [
    {
     "data": {
      "text/plain": [
       "'DJIM600-FT-A-2426_20191126_chunk1'"
      ]
     },
     "execution_count": 384,
     "metadata": {},
     "output_type": "execute_result"
    }
   ],
   "source": [
    "test[-1][:-4]"
   ]
  },
  {
   "cell_type": "code",
   "execution_count": 21,
   "id": "5f418750-5019-4208-81b5-feab857916f7",
   "metadata": {},
   "outputs": [],
   "source": [
    "os.chdir(\"C:\\\\Users\\Alec\\Desktop\\dndMLApproach\")"
   ]
  },
  {
   "cell_type": "code",
   "execution_count": 24,
   "id": "1452ebb1-8d21-4117-837f-9d29de01447a",
   "metadata": {},
   "outputs": [],
   "source": [
    "master = pd.read_csv(\"C:\\\\Users\\Alec\\Desktop\\dndMLApproach\\complete_dataset_features.csv\")"
   ]
  },
  {
   "cell_type": "code",
   "execution_count": 27,
   "id": "1aa072ef-8278-4f15-ae9d-23d139b52978",
   "metadata": {},
   "outputs": [
    {
     "name": "stdout",
     "output_type": "stream",
     "text": [
      "(39256, 3395) (30000, 3395)\n"
     ]
    }
   ],
   "source": [
    "def update_label_based_on_filename(filename):\n",
    "    # Split the filename by '\\'\n",
    "    parts = filename.split('\\\\')\n",
    "    # Check what the filename starts with and update the label accordingly\n",
    "    if parts[-1][:-4].startswith('anech') or parts[-1][:-4].startswith('combined') or 'anech' in filename:\n",
    "        return 0\n",
    "    else:\n",
    "        return 1\n",
    "\n",
    "# # Apply the function to update the Label column\n",
    "master['Label'] = master['Filename'].apply(update_label_based_on_filename)\n",
    "anech = master[master['Label'] == 0]\n",
    "esc = master[master['Label'] == 1]\n",
    "print(anech.shape, esc.shape)"
   ]
  },
  {
   "cell_type": "code",
   "execution_count": 28,
   "id": "76e69173-8c42-42d5-942d-62ddddc5de2e",
   "metadata": {},
   "outputs": [],
   "source": [
    "# master.to_csv('complete_dataset_features.csv', index=False)"
   ]
  },
  {
   "cell_type": "code",
   "execution_count": 30,
   "id": "bfa90542-c913-4223-b3a0-5edeff48a631",
   "metadata": {},
   "outputs": [],
   "source": [
    "t = anech['Filename']\n",
    "t.to_csv('anechFNames.csv', index = False)"
   ]
  }
 ],
 "metadata": {
  "kernelspec": {
   "display_name": "Python 3 (ipykernel)",
   "language": "python",
   "name": "python3"
  },
  "language_info": {
   "codemirror_mode": {
    "name": "ipython",
    "version": 3
   },
   "file_extension": ".py",
   "mimetype": "text/x-python",
   "name": "python",
   "nbconvert_exporter": "python",
   "pygments_lexer": "ipython3",
   "version": "3.11.9"
  }
 },
 "nbformat": 4,
 "nbformat_minor": 5
}
