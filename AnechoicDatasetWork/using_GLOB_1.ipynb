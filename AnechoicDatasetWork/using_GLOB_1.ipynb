{
 "cells": [
  {
   "cell_type": "code",
   "execution_count": 29,
   "id": "3b2cb70a",
   "metadata": {},
   "outputs": [],
   "source": [
    "#Checking use of glob to setup categories for processing"
   ]
  },
  {
   "cell_type": "code",
   "execution_count": 30,
   "id": "cc34e722",
   "metadata": {},
   "outputs": [
    {
     "data": {
      "text/plain": [
       "'D:\\\\MMD_2024\\\\WorkBench_2024\\\\Processing_and_Code\\\\Jupyter_nb_Stuff\\\\2024\\\\Q3_2024\\\\July_2024'"
      ]
     },
     "execution_count": 30,
     "metadata": {},
     "output_type": "execute_result"
    }
   ],
   "source": [
    "import glob\n",
    "import numpy as np\n",
    "import pandas as pd\n",
    "from matplotlib import pyplot as plt\n",
    "from scipy.io import wavfile  # Not wavefile as is given in the .py file from Stevens\n",
    "import wave, struct\n",
    "from scipy.fft import fft, ifft, fftfreq\n",
    "from scipy import signal\n",
    "from scipy.signal import find_peaks\n",
    "import os\n",
    "os.getcwd()"
   ]
  },
  {
   "cell_type": "code",
   "execution_count": 31,
   "id": "227bed3a",
   "metadata": {},
   "outputs": [
    {
     "name": "stdout",
     "output_type": "stream",
     "text": [
      "Found 68 files matching pattern DJIM600*.wav\n",
      "Found 116 files matching pattern DJIS1000*.wav\n",
      "Found 140 files matching pattern PHANTOM4*.wav\n",
      "Found 72 files matching pattern PHANTOM4QP*.wav\n",
      "Found 76 files matching pattern MAVICPROPLAT*.wav\n",
      "Found 144 files matching pattern MAVICPRO*.wav\n",
      "Found 76 files matching pattern MAVIC2PRO*.wav\n"
     ]
    }
   ],
   "source": [
    "base_path='D:\\\\MMD_2024\\\\WorkBench_2024\\\\DataStores\\\\Acoustic\\\\AnechoicChamber_stuff\\\\audio\\\\' \n",
    "the_type_set=['DJIM600','DJIS1000','PHANTOM4','PHANTOM4QP','MAVICPROPLAT','MAVICPRO','MAVIC2PRO']\n",
    "number_of_categories=len(the_type_set)\n",
    "type_category=np.zeros(number_of_categories)\n",
    "\n",
    "\n",
    "for model in the_type_set:  \n",
    "    the_types =model+'*.wav'\n",
    "    the_pattern=base_path+the_types\n",
    "    #print('Looking for ',the_pattern)\n",
    "    # Returns a list of names in list files. \n",
    "    #print(\"Using glob.glob()\") \n",
    "    files = glob.glob(the_pattern,recursive = True) \n",
    "    number_found =0\n",
    "    i=0\n",
    "    for file in files:\n",
    "        number_found =number_found +1\n",
    "        #print(file) \n",
    "    print('Found',number_found, 'files matching pattern',the_types)\n",
    "    type_category[]"
   ]
  },
  {
   "cell_type": "code",
   "execution_count": null,
   "id": "15c575a1",
   "metadata": {},
   "outputs": [],
   "source": []
  }
 ],
 "metadata": {
  "kernelspec": {
   "display_name": "Python 3 (ipykernel)",
   "language": "python",
   "name": "python3"
  },
  "language_info": {
   "codemirror_mode": {
    "name": "ipython",
    "version": 3
   },
   "file_extension": ".py",
   "mimetype": "text/x-python",
   "name": "python",
   "nbconvert_exporter": "python",
   "pygments_lexer": "ipython3",
   "version": "3.11.9"
  }
 },
 "nbformat": 4,
 "nbformat_minor": 5
}
