{
 "cells": [
  {
   "cell_type": "code",
   "execution_count": 338,
   "id": "3a71499f-37a8-4006-b8d4-17e902c25113",
   "metadata": {},
   "outputs": [],
   "source": [
    "# Code from D:\\MMD_Cache\\WorkBench_2024\\Processing_and_Code\\py_Code\\py_code_for_SIT\\Q1_2024\\March\n",
    "# 07/15/2024  Dealing with the single file case first \n",
    "#             Saved audio time series figure to file\n",
    "#             modified to perform Welch periodogram on data, results in frquency spectrum\n",
    "#             incorporated better peak handling  - via introduction of Pandas dataframes for the peaks\n",
    "#             Was able to sort the peaks found, by strength or by freq position\n",
    "#             Saved the sorted peaks to an excel spreadsheet\n",
    "# 07/16/2024\n",
    "#             Put in code to check that given directory exists and if not then create it             \n",
    "#             Wrote file information to a text file (saved it)\n",
    "#\n",
    "# 7/18/2024     \n",
    "#               Modified by Griffin - wrapped code inside of a loop to automate the peak picking for every file in the \n",
    "#               directory and producing a dataframe with the results to be used for future processing"
   ]
  },
  {
   "cell_type": "code",
   "execution_count": 2,
   "id": "3f9bf75f-1804-490b-a2ef-eb803fdb6c2a",
   "metadata": {},
   "outputs": [],
   "source": [
    "from glob import glob\n",
    "import numpy as np\n",
    "import pandas as pd\n",
    "from matplotlib import pyplot as plt\n",
    "from scipy.io import wavfile\n",
    "import wave, struct\n",
    "from scipy.fft import fft, ifft, fftfreq\n",
    "from scipy import signal\n",
    "from scipy.signal import find_peaks\n",
    "import os\n",
    "import json"
   ]
  },
  {
   "cell_type": "code",
   "execution_count": 4,
   "id": "469dca82-b392-4f93-bad6-6413246d9458",
   "metadata": {},
   "outputs": [],
   "source": [
    "os.chdir(\"C:\\\\Users\\Alec\\Desktop\\AnechoicDatasetWork\")"
   ]
  },
  {
   "cell_type": "code",
   "execution_count": 32,
   "id": "14ef03c9-6610-4c64-b45f-d2a9f46fc362",
   "metadata": {},
   "outputs": [
    {
     "name": "stdout",
     "output_type": "stream",
     "text": [
      "9256\n"
     ]
    }
   ],
   "source": [
    "files = glob('*')\n",
    "print(len(files))"
   ]
  },
  {
   "cell_type": "markdown",
   "id": "91c78cb9-9eb0-4267-92a7-45b5f7072c8d",
   "metadata": {},
   "source": [
    "Wrapped your code in a loop, took the frequency and strength from each peak for each file and created an array of tuples, for example if the file has 19 peaks, there will be 19 tuples associated with the file, where the number on the left is the Strength and the number on the right is frequency. I then padded each array of tuples to be on length 190 to match the shape of the largest (One of the files produced 190 peaks...)\n",
    "\n",
    "A bit of a hiccup being the conversion of tuples into JSON and then back to numpy arrays so you can actually work with the data is a bit annoying. I was struggling with getting floats back when I read the csv, it was always giving back strings, that's where the JSON comes in. See the code at the bottom for how to turn the json back into numpy arrays"
   ]
  },
  {
   "cell_type": "code",
   "execution_count": 36,
   "id": "7f85292d-1756-412b-afdf-a791146e3200",
   "metadata": {},
   "outputs": [],
   "source": [
    "peakArrays = []\n",
    "numPeaks = []\n",
    "max = 0\n",
    "for f in files:\n",
    "    samplerate,anech_data= wavfile.read(f) \n",
    "    sample_time=1/samplerate\n",
    "    recording_time=int(len(anech_data)/samplerate)\n",
    "    total_number_samples=len(anech_data)\n",
    "    t = np.linspace(0, recording_time, len(anech_data))\n",
    "    \n",
    "    # Do Welch periodogram\n",
    "    fs = samplerate/1000 # kHz or samplerate (Hz)/1000\n",
    "    Nperseg=8192 # nperseg (number of samples per segment)\n",
    "    f, Pxx_den = signal.welch(anech_data, fs, nperseg=Nperseg)\n",
    "    #normalize the Pxx_den\n",
    "    Pxx_den_max=biggest=np.max(Pxx_den)\n",
    "    Pxx_den_norm=Pxx_den/biggest\n",
    "    freq_step=f[1]-f[0]\n",
    "    \n",
    "    min_freq=0.5;max_freq=5.0\n",
    "    b=np.where((f> min_freq)&(f<max_freq));barray=np.asarray(b)\n",
    "    first_element=np.min(barray);last_element=np.max(barray)\n",
    "    #\n",
    "    x=Pxx_den[first_element:last_element]\n",
    "    # normallize this section (in contrast to normalizing entire record)\n",
    "    biggest=np.max(x)\n",
    "    x_norm=x/biggest\n",
    "    \n",
    "    min_height= 0.05; max_height=1.1\n",
    "    peaks, _ = find_peaks(x_norm, height=(min_height,max_height))\n",
    "    number_of_peaks=len(peaks)\n",
    "    numPeaks.append(number_of_peaks)\n",
    "    if number_of_peaks > max:\n",
    "        max = number_of_peaks\n",
    "        \n",
    "    the_freq=f[peaks]*1000+f[first_element]*1000\n",
    "    \n",
    "    strength_x=(x_norm[peaks]).astype(np.float64)# this is the strength of the peaks\n",
    "    sorted_strength=sorted(strength_x)\n",
    "    \n",
    "    the_freq=f[peaks]*1000+f[first_element]*1000\n",
    "    sorted_freq=sorted(the_freq)\n",
    "    zipped = list(zip(strength_x, the_freq)) #zip the strength and frequency for the file\n",
    "    zipped_json = json.dumps(zipped) #json dump the zipped array\n",
    "    peakArrays.append(zipped_json)\n",
    "    "
   ]
  },
  {
   "cell_type": "markdown",
   "id": "2874572e-db69-4fc4-acd5-557a77b95d51",
   "metadata": {},
   "source": [
    "Pad the arrays to reach the length of the largest, essentially pad (0,0) until you reach the shape of the largest existing array, the max number of peaks found from any file"
   ]
  },
  {
   "cell_type": "code",
   "execution_count": 37,
   "id": "c4c5b39a-3284-43ca-a000-ece2e6a5ec54",
   "metadata": {},
   "outputs": [],
   "source": [
    "for i in range(len(peakArrays)):\n",
    "    zipped = json.loads(peakArrays[i])  # Convert JSON back to list of tuples\n",
    "    padded_zipped = zipped + [(0, 0)] * (max - len(zipped))\n",
    "    peakArrays[i] = json.dumps(padded_zipped)  # Convert back to JSON string"
   ]
  },
  {
   "cell_type": "code",
   "execution_count": 40,
   "id": "3bce33eb-2249-42ec-8217-e0d998632e27",
   "metadata": {},
   "outputs": [],
   "source": [
    "# Function to determine prefix number based on file name\n",
    "def get_prefix_number(filename):\n",
    "    # Define your prefixes and their corresponding numbers\n",
    "    prefixes = {\n",
    "        'DJIM600': 0,\n",
    "        'DJIS1000': 1,\n",
    "        'DJIS1000LOUD': 2,\n",
    "        'MAVIC2PRO': 3,\n",
    "        'MAVICPRO': 4,\n",
    "        'MAVICPROPLAT': 5,\n",
    "        'PHANTOM4': 6,\n",
    "        'PHANTOM4QP': 7,\n",
    "    }\n",
    "    # Iterate through prefixes to find a match\n",
    "    for prefix, number in prefixes.items():\n",
    "        if filename.split('-', 1)[0] == prefix:\n",
    "            return number\n",
    "    # Return 6 if no prefix matches (assuming there are only 6 prefixes)\n",
    "    return 8\n",
    "\n",
    "files = os.listdir(os.getcwd())\n",
    "\n",
    "# Create lists to store filenames and corresponding prefix numbers\n",
    "filenames = []\n",
    "labels = []\n",
    "\n",
    "# Iterate through files to collect filename and prefix number\n",
    "for filename in files:\n",
    "    filenames.append(filename)\n",
    "    labels.append(get_prefix_number(filename))\n"
   ]
  },
  {
   "cell_type": "code",
   "execution_count": 41,
   "id": "141005d5-f528-43ce-ad76-cb6d565f66e4",
   "metadata": {},
   "outputs": [],
   "source": [
    "# Create a DataFrame\n",
    "df = pd.DataFrame({\n",
    "    'Filename': filenames,\n",
    "    'Label': labels\n",
    "})\n",
    "\n",
    "#create dataframe with the json dumped tuples of strength and frequency\n",
    "df1 = pd.DataFrame({'Strength, Frequency' : peakArrays})\n",
    "\n",
    "#concatenate the 2 dataframes to get your final df\n",
    "res = pd.concat([df, df1], axis=1)\n",
    "\n",
    "#write the resulting dataframe to a csv file (or xlsx if you prefer)\n",
    "res.to_csv('../peaks.csv', index=False)"
   ]
  },
  {
   "cell_type": "code",
   "execution_count": 42,
   "id": "196535c6-8a54-4b74-8906-10a7dfb078cc",
   "metadata": {},
   "outputs": [
    {
     "data": {
      "text/html": [
       "<div>\n",
       "<style scoped>\n",
       "    .dataframe tbody tr th:only-of-type {\n",
       "        vertical-align: middle;\n",
       "    }\n",
       "\n",
       "    .dataframe tbody tr th {\n",
       "        vertical-align: top;\n",
       "    }\n",
       "\n",
       "    .dataframe thead th {\n",
       "        text-align: right;\n",
       "    }\n",
       "</style>\n",
       "<table border=\"1\" class=\"dataframe\">\n",
       "  <thead>\n",
       "    <tr style=\"text-align: right;\">\n",
       "      <th></th>\n",
       "      <th>Filename</th>\n",
       "      <th>Label</th>\n",
       "      <th>Strength, Frequency</th>\n",
       "    </tr>\n",
       "  </thead>\n",
       "  <tbody>\n",
       "    <tr>\n",
       "      <th>0</th>\n",
       "      <td>DJIM600-FT-A-2426_20191126_chunk1.wav</td>\n",
       "      <td>0</td>\n",
       "      <td>[[1.0, 527.5634765625], [0.17151795327663422, ...</td>\n",
       "    </tr>\n",
       "    <tr>\n",
       "      <th>1</th>\n",
       "      <td>DJIM600-FT-A-2426_20191126_chunk10.wav</td>\n",
       "      <td>0</td>\n",
       "      <td>[[0.4262206554412842, 570.6298828125], [0.5339...</td>\n",
       "    </tr>\n",
       "    <tr>\n",
       "      <th>2</th>\n",
       "      <td>DJIM600-FT-A-2426_20191126_chunk11.wav</td>\n",
       "      <td>0</td>\n",
       "      <td>[[1.0, 570.6298828125], [0.8846743702888489, 7...</td>\n",
       "    </tr>\n",
       "    <tr>\n",
       "      <th>3</th>\n",
       "      <td>DJIM600-FT-A-2426_20191126_chunk12.wav</td>\n",
       "      <td>0</td>\n",
       "      <td>[[0.3114384114742279, 570.6298828125], [0.5325...</td>\n",
       "    </tr>\n",
       "    <tr>\n",
       "      <th>4</th>\n",
       "      <td>DJIM600-FT-A-2426_20191126_chunk13.wav</td>\n",
       "      <td>0</td>\n",
       "      <td>[[0.6827555894851685, 570.6298828125], [0.5124...</td>\n",
       "    </tr>\n",
       "  </tbody>\n",
       "</table>\n",
       "</div>"
      ],
      "text/plain": [
       "                                 Filename  Label  \\\n",
       "0   DJIM600-FT-A-2426_20191126_chunk1.wav      0   \n",
       "1  DJIM600-FT-A-2426_20191126_chunk10.wav      0   \n",
       "2  DJIM600-FT-A-2426_20191126_chunk11.wav      0   \n",
       "3  DJIM600-FT-A-2426_20191126_chunk12.wav      0   \n",
       "4  DJIM600-FT-A-2426_20191126_chunk13.wav      0   \n",
       "\n",
       "                                 Strength, Frequency  \n",
       "0  [[1.0, 527.5634765625], [0.17151795327663422, ...  \n",
       "1  [[0.4262206554412842, 570.6298828125], [0.5339...  \n",
       "2  [[1.0, 570.6298828125], [0.8846743702888489, 7...  \n",
       "3  [[0.3114384114742279, 570.6298828125], [0.5325...  \n",
       "4  [[0.6827555894851685, 570.6298828125], [0.5124...  "
      ]
     },
     "execution_count": 42,
     "metadata": {},
     "output_type": "execute_result"
    }
   ],
   "source": [
    "res.head()"
   ]
  },
  {
   "cell_type": "markdown",
   "id": "27cd9a06-c28f-4f91-9dc1-2c02f3e4423b",
   "metadata": {},
   "source": [
    "See below for the code to turn the JSON data back into NP arrays so that you can actually work with it"
   ]
  },
  {
   "cell_type": "code",
   "execution_count": 21,
   "id": "379e6f0f-5e2a-4d1e-89b6-7079b9556915",
   "metadata": {
    "scrolled": true
   },
   "outputs": [
    {
     "name": "stdout",
     "output_type": "stream",
     "text": [
      "First array of tuples after restoration:\n",
      "[(1.0, 570.6298828125), (0.8846743702888489, 710.595703125), (0.7963165044784546, 721.3623046875), (0.859373927116394, 850.5615234375), (0.8788669109344482, 861.328125), (0.07520543038845062, 877.47802734375), (0.6497615575790405, 995.91064453125), (0.17919908463954926, 1135.87646484375), (0.5581781268119812, 1152.0263671875), (0.5572361946105957, 1281.2255859375), (0.13022729754447937, 1297.37548828125), (0.19881200790405273, 1421.19140625), (0.21296538412570953, 1437.34130859375), (0.10829287767410278, 1458.87451171875), (0.051686160266399384, 1528.857421875), (0.46581801772117615, 1561.1572265625), (0.13317401707172394, 1706.50634765625), (0.06356951594352722, 1846.47216796875), (0.06409783661365509, 1873.388671875), (0.07386983186006546, 1991.8212890625), (0.1088997945189476, 2131.787109375), (0.22438719868659973, 2271.7529296875), (0.16595196723937988, 2304.052734375), (0.07350227236747742, 2417.10205078125), (0.141023188829422, 2444.0185546875), (0.05097976326942444, 2562.451171875), (0.05709102749824524, 2691.650390625), (0.06102956458926201, 2702.4169921875), (0.06043282151222229, 3122.314453125), (0.05462484434247017, 3165.380859375), (0.050938308238983154, 3262.2802734375), (0, 0), (0, 0), (0, 0), (0, 0), (0, 0), (0, 0), (0, 0), (0, 0), (0, 0), (0, 0), (0, 0), (0, 0), (0, 0), (0, 0), (0, 0), (0, 0), (0, 0), (0, 0), (0, 0), (0, 0), (0, 0), (0, 0), (0, 0), (0, 0), (0, 0), (0, 0), (0, 0), (0, 0), (0, 0), (0, 0), (0, 0), (0, 0), (0, 0), (0, 0), (0, 0), (0, 0), (0, 0), (0, 0), (0, 0), (0, 0), (0, 0), (0, 0), (0, 0), (0, 0), (0, 0), (0, 0), (0, 0), (0, 0), (0, 0), (0, 0), (0, 0), (0, 0), (0, 0), (0, 0), (0, 0), (0, 0), (0, 0), (0, 0), (0, 0), (0, 0), (0, 0), (0, 0), (0, 0), (0, 0), (0, 0), (0, 0), (0, 0), (0, 0), (0, 0), (0, 0), (0, 0), (0, 0), (0, 0), (0, 0), (0, 0), (0, 0), (0, 0), (0, 0), (0, 0), (0, 0), (0, 0), (0, 0), (0, 0), (0, 0), (0, 0), (0, 0), (0, 0), (0, 0), (0, 0), (0, 0), (0, 0), (0, 0), (0, 0), (0, 0), (0, 0), (0, 0), (0, 0), (0, 0), (0, 0), (0, 0), (0, 0), (0, 0), (0, 0), (0, 0), (0, 0), (0, 0), (0, 0), (0, 0), (0, 0), (0, 0), (0, 0), (0, 0), (0, 0), (0, 0), (0, 0), (0, 0), (0, 0), (0, 0), (0, 0), (0, 0), (0, 0), (0, 0), (0, 0), (0, 0), (0, 0), (0, 0), (0, 0), (0, 0), (0, 0), (0, 0), (0, 0), (0, 0), (0, 0), (0, 0), (0, 0), (0, 0), (0, 0), (0, 0), (0, 0), (0, 0), (0, 0), (0, 0), (0, 0), (0, 0), (0, 0), (0, 0), (0, 0), (0, 0), (0, 0), (0, 0), (0, 0), (0, 0), (0, 0), (0, 0), (0, 0), (0, 0), (0, 0), (0, 0), (0, 0), (0, 0), (0, 0), (0, 0), (0, 0), (0, 0), (0, 0), (0, 0), (0, 0), (0, 0), (0, 0), (0, 0), (0, 0), (0, 0), (0, 0), (0, 0), (0, 0), (0, 0), (0, 0), (0, 0), (0, 0), (0, 0), (0, 0), (0, 0), (0, 0), (0, 0), (0, 0), (0, 0), (0, 0), (0, 0), (0, 0), (0, 0), (0, 0), (0, 0), (0, 0), (0, 0), (0, 0), (0, 0), (0, 0), (0, 0), (0, 0), (0, 0)]\n",
      "First pair of Strength, Frequency: (1.0, 570.6298828125)\n",
      "Strength value from first peak 1.0\n",
      "Frequency value from first peak 570.6298828125\n"
     ]
    }
   ],
   "source": [
    "#load csv to df\n",
    "test = pd.read_csv('./AnechoicPeaks.csv')\n",
    "\n",
    "#take the Strength, Frequency column, get the json and convert it all into a numpy array called peakArrays\n",
    "peakArrays_restored = []\n",
    "for zipped_json in test['Strength, Frequency']:\n",
    "    zipped = json.loads(zipped_json)\n",
    "    zipped_tuples = [tuple(t) for t in zipped]\n",
    "    peakArrays_restored.append(zipped_tuples)\n",
    "\n",
    "# Example usage: Accessing the first array of tuples after restoration\n",
    "first_array_restored = peakArrays_restored[2]\n",
    "\n",
    "print(\"First array of tuples after restoration:\")\n",
    "print(first_array_restored)\n",
    "print(\"First pair of Strength, Frequency:\", first_array_restored[0])\n",
    "print(\"Strength value from first peak\", first_array_restored[0][0])\n",
    "print(\"Frequency value from first peak\", first_array_restored[0][1])"
   ]
  },
  {
   "cell_type": "code",
   "execution_count": 13,
   "id": "e852a8bc-e141-4591-bb56-7efd66b48268",
   "metadata": {},
   "outputs": [],
   "source": [
    "t = np.array(first_array_restored)"
   ]
  },
  {
   "cell_type": "code",
   "execution_count": 18,
   "id": "bdf21114-e97f-44b5-95be-6b0a52ff9b7a",
   "metadata": {},
   "outputs": [
    {
     "data": {
      "text/plain": [
       "dtype('float64')"
      ]
     },
     "execution_count": 18,
     "metadata": {},
     "output_type": "execute_result"
    }
   ],
   "source": [
    "t[0][1].dtype"
   ]
  },
  {
   "cell_type": "code",
   "execution_count": 22,
   "id": "cf268459-240f-43ed-b33d-13c8146d73ea",
   "metadata": {},
   "outputs": [
    {
     "data": {
      "image/png": "[encoded data removed]",
      "text/plain": [
       "<Figure size 1000x600 with 1 Axes>"
      ]
     },
     "metadata": {},
     "output_type": "display_data"
    }
   ],
   "source": [
    "data = [point for point in first_array_restored if point != (0, 0)]\n",
    "\n",
    "# Separate x and y values for plotting\n",
    "x_values = [point[0] for point in first_array_restored]\n",
    "y_values = [point[1] for point in first_array_restored]\n",
    "\n",
    "# Plot the data\n",
    "plt.figure(figsize=(10, 6))\n",
    "plt.plot(x_values, y_values, marker='o', linestyle='-', color='b', label='Data Points')\n",
    "plt.xlabel('Strength')\n",
    "plt.ylabel('Frequency')\n",
    "plt.title('Plot of Strength vs Frequency')\n",
    "plt.grid(True)\n",
    "plt.legend()\n",
    "plt.show()"
   ]
  }
 ],
 "metadata": {
  "kernelspec": {
   "display_name": "Python 3 (ipykernel)",
   "language": "python",
   "name": "python3"
  },
  "language_info": {
   "codemirror_mode": {
    "name": "ipython",
    "version": 3
   },
   "file_extension": ".py",
   "mimetype": "text/x-python",
   "name": "python",
   "nbconvert_exporter": "python",
   "pygments_lexer": "ipython3",
   "version": "3.11.9"
  }
 },
 "nbformat": 4,
 "nbformat_minor": 5
}
