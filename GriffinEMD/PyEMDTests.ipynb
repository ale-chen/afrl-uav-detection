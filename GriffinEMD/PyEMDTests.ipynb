{
 "cells": [
  {
   "cell_type": "markdown",
   "id": "3a80ce45-4b60-41fe-98d1-ec994bb4e2e1",
   "metadata": {},
   "source": [
    "This code utilizes the PyEMD library for empirical mode decomposition experiments. See the documentation here: https://pyemd.readthedocs.io/en/latest/intro.html\n",
    "\n",
    "Install the package from within a Jupyter notebook using !pip install EMD-signal \n",
    "or for a normal command line install simply \"pip install EMD-signal\"\n",
    "\n",
    "The reason for using this library is that it tends to produce more IMFs from a signal than the other emd library I have been using. This library also seems to have more customization and modifiable parameters, as well as built-in visualization functionality + automatic residual calculation as well\n",
    "\n",
    "The major downside is the difference in computation time, this package seems to take exponentially more time to compute the IMFs for a given signal, I recommend using smaller chunks of signals no longer than 30 seconds\n",
    "\n",
    "The results generated using this library will be stored in a directory titled PyEMD_Results, whereas the results generated using the other EMD library will be stored in a directory titled emd_Results. This allows me to keep the results separate and set up various comparisons between the two approaches."
   ]
  },
  {
   "cell_type": "code",
   "execution_count": 1,
   "id": "d0a0ea14-78b9-4eaa-8dc2-0b0409f34ec0",
   "metadata": {},
   "outputs": [],
   "source": [
    "from PyEMD import EEMD\n",
    "from PyEMD import EMD\n",
    "import numpy as np\n",
    "import matplotlib.pyplot as plt\n",
    "import librosa\n",
    "import soundfile as sf\n",
    "import os\n",
    "from glob import glob"
   ]
  },
  {
   "cell_type": "code",
   "execution_count": 3,
   "id": "10a0abb4-b276-415a-9221-2c35c956d4cc",
   "metadata": {},
   "outputs": [],
   "source": [
    "#load your file\n",
    "y,sr = librosa.load(\"C:\\\\Users\\Alec\\Desktop\\SIT_acoustic\\ESCAPE_FORMAT_ONECHANNEL\\ESCAPE_II_ONECHANNEL\\sA3r04\\p04\\d308\\d308sA3r04p0420210827.wav\", sr=None)\n",
    "duration = len(y) / sr\n",
    "\n",
    "# Create time array\n",
    "t = np.linspace(0, duration, len(y))"
   ]
  },
  {
   "cell_type": "code",
   "execution_count": null,
   "id": "2f445ada-66aa-4c26-a616-b2d6c9e1d349",
   "metadata": {},
   "outputs": [],
   "source": [
    "#create an EMD object, this is where to apply most parameters you want to use. See: https://pyemd.readthedocs.io/en/latest/emd.html\n",
    "\n",
    "emd = EMD()\n",
    "emd.emd(y)\n",
    "\n",
    "imfs, res = emd.get_imfs_and_residue()\n",
    "\n",
    "nIMFs = imfs.shape[0]\n",
    "\n",
    "\n",
    "fig, axs = plt.subplots(nIMFs + 1, 1, figsize=(12, 9))\n",
    "\n",
    "# Iterate through each inner array and plot\n",
    "for i in range(nIMFs):\n",
    "    axs[i].plot(t, imfs[i])\n",
    "\n",
    "axs[11].plot(t, res)\n",
    "plt.show()"
   ]
  },
  {
   "cell_type": "code",
   "execution_count": 31,
   "id": "dc9980bc-9676-4587-9514-9a9510503ea4",
   "metadata": {},
   "outputs": [],
   "source": [
    "#loop through the created IMFs and output .wav files to a specified directory and name them based on the IMF they represent\n",
    "num_columns = imfs.shape[0]\n",
    "\n",
    "# Iterate over columns and plot\n",
    "for i in range(num_columns):\n",
    "    sf.write(f'C:\\\\Users\\Alec\\Desktop\\GriffinEMD\\PyEMD_Results\\d308sA3r04p0420210827\\IMF_{i}.wav', imfs[i,:], sr)"
   ]
  }
 ],
 "metadata": {
  "kernelspec": {
   "display_name": "Python 3 (ipykernel)",
   "language": "python",
   "name": "python3"
  },
  "language_info": {
   "codemirror_mode": {
    "name": "ipython",
    "version": 3
   },
   "file_extension": ".py",
   "mimetype": "text/x-python",
   "name": "python",
   "nbconvert_exporter": "python",
   "pygments_lexer": "ipython3",
   "version": "3.11.9"
  }
 },
 "nbformat": 4,
 "nbformat_minor": 5
}
