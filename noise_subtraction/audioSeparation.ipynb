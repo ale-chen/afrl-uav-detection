{
 "cells": [
  {
   "cell_type": "code",
   "execution_count": 35,
   "id": "67769b61-3a59-4c3e-8239-0d4441514a4c",
   "metadata": {},
   "outputs": [],
   "source": [
    "import noisereduce as nr\n",
    "import matplotlib.pyplot as plt\n",
    "import numpy as np\n",
    "import os\n",
    "from scipy.io import wavfile\n",
    "import librosa\n",
    "import soundfile as sf"
   ]
  },
  {
   "cell_type": "code",
   "execution_count": 229,
   "id": "0df25e19-d602-4b89-ba69-425a2fdd626e",
   "metadata": {},
   "outputs": [],
   "source": [
    "#alternative beta_loss: beta_loss='kullback_leibler' or beta_loss='itakura-saito'\n",
    "#alternative solver: solver='mu'"
   ]
  },
  {
   "cell_type": "code",
   "execution_count": 228,
   "id": "ff070d5b-3ebf-461f-9e15-aba7ca1bdae3",
   "metadata": {},
   "outputs": [],
   "source": [
    "# take a signal as input, take the magnitude of the STFT of the signal, use the librosa decompose function which in turn uses the scikit-learn NMF decomposition\n",
    "# function with paramaters modified as you see fit, then takes the dot product of the components and activations to reconstruct the signal into a spectrogram\n",
    "# then take the ISTFT to convert the spectrogram back to the temporal domain and write the .wav file.\n",
    "\n",
    "# Function takes a signal and parameters as input and ouputs the reconstructed signal, a spectrogram of the signal, and the waveform of the signal \n",
    "\n",
    "def NMF_process(y, sr, filename, n_components=16, n_fft=2048, beta_loss='frobenius', solver='cd', max_iter=1000, save_dir='libNMF/'):\n",
    "    S = np.abs(librosa.stft(y, n_fft=n_fft))\n",
    "\n",
    "    comps, acts = librosa.decompose.decompose(S, sort=True, max_iter=max_iter, beta_loss=beta_loss, solver=solver, n_components=n_components)\n",
    "\n",
    "    S_approx = comps.dot(acts) \n",
    "\n",
    "    outWave = librosa.istft(S_approx) #convert back to temporal domain\n",
    "\n",
    "    wavfile.write(f\"{save_dir}{filename}_{n_components}_{solver}_{beta_loss}.wav\", sr, outWave)\n",
    "\n",
    "    plt.figure(figsize=(10, 4))\n",
    "    img = librosa.display.specshow(librosa.amplitude_to_db(S_approx,\n",
    "                                                       ref=np.max),\n",
    "                               y_axis='log', x_axis='time')\n",
    "    plt.colorbar(format='%+2.0f dB')\n",
    "    plt.title('NMF Reconstructed Spectrogram')\n",
    "    plt.savefig(f\"{save_dir}{filename}_{n_components}_{solver}_{beta_loss}.png\")\n",
    "    plt.close()\n",
    "\n",
    "    plt.figure(figsize=(10, 4))\n",
    "    wav = librosa.display.waveshow(outWave, sr=sr)\n",
    "    plt.title('NMF Reconstructed Waveform')\n",
    "    plt.savefig(f\"{save_dir}{filename}_{n_components}_{solver}_{beta_loss}_wave.png\")\n",
    "    plt.close()"
   ]
  },
  {
   "cell_type": "code",
   "execution_count": 2,
   "id": "83c32a13-d734-4133-bef0-e68ee747a8ae",
   "metadata": {},
   "outputs": [],
   "source": [
    "os.chdir(f'C:\\\\Users\\griff\\AFRL_2024')"
   ]
  },
  {
   "cell_type": "code",
   "execution_count": 215,
   "id": "d4617d53-06ef-4adf-bea4-cbef3cca5ac6",
   "metadata": {},
   "outputs": [],
   "source": [
    "filename='d303sA2r03p0220210824.wav'"
   ]
  },
  {
   "cell_type": "code",
   "execution_count": 216,
   "id": "8d2715d7-048f-44bf-a24c-517714de9cf7",
   "metadata": {},
   "outputs": [],
   "source": [
    "y,sr = librosa.load(filename)"
   ]
  },
  {
   "cell_type": "code",
   "execution_count": 230,
   "id": "6bef0bb1-bd6e-474c-93f5-e5aa22c7ccb7",
   "metadata": {},
   "outputs": [
    {
     "name": "stderr",
     "output_type": "stream",
     "text": [
      "C:\\Users\\griff\\anaconda3\\envs\\audioSeparation\\lib\\site-packages\\sklearn\\decomposition\\_nmf.py:1759: ConvergenceWarning: Maximum number of iterations 1000 reached. Increase it to improve convergence.\n",
      "  warnings.warn(\n"
     ]
    }
   ],
   "source": [
    "NMF_process(y, sr, filename, n_components=128)"
   ]
  }
 ],
 "metadata": {
  "kernelspec": {
   "display_name": "Python 3 (ipykernel)",
   "language": "python",
   "name": "python3"
  },
  "language_info": {
   "codemirror_mode": {
    "name": "ipython",
    "version": 3
   },
   "file_extension": ".py",
   "mimetype": "text/x-python",
   "name": "python",
   "nbconvert_exporter": "python",
   "pygments_lexer": "ipython3",
   "version": "3.9.19"
  }
 },
 "nbformat": 4,
 "nbformat_minor": 5
}
