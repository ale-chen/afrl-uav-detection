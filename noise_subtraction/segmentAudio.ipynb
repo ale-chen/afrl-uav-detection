{
 "cells": [
  {
   "cell_type": "code",
   "execution_count": 1,
   "id": "1d28b0b9-714d-41d1-91d0-ea9718105449",
   "metadata": {},
   "outputs": [],
   "source": [
    "import librosa\n",
    "import librosa.display\n",
    "import numpy as np\n",
    "import soundfile as sf\n",
    "import matplotlib.pyplot as plt\n",
    "import os\n",
    "from glob import glob\n",
    "from scipy.io import wavfile"
   ]
  },
  {
   "cell_type": "code",
   "execution_count": 2,
   "id": "5a6f46ba-a187-4deb-9db9-06a680c93100",
   "metadata": {},
   "outputs": [],
   "source": [
    "def segment_audio(input_file, output_dir, chunk_duration=5, sr=None):\n",
    "\n",
    "    y, sr = librosa.load(input_file, sr=sr)\n",
    "    \n",
    "    #samples per chunk\n",
    "    chunk_samples = chunk_duration * sr\n",
    "    \n",
    "    # find chunks\n",
    "    num_chunks = int(np.ceil(len(y) / chunk_samples))\n",
    "    \n",
    "    \n",
    "    for i in range(num_chunks):\n",
    "        start_sample = i * chunk_samples\n",
    "        end_sample = min((i + 1) * chunk_samples, len(y))\n",
    "        \n",
    "        chunk = y[start_sample:end_sample]\n",
    "        \n",
    "        #write the chunk out\n",
    "        wavfile.write(f\"{output_dir}/chunk_{i + 1}.wav\", sr, chunk)\n",
    "        print(f\"Saved {output_dir}/chunk_{i + 1}.wav\")"
   ]
  },
  {
   "cell_type": "code",
   "execution_count": 3,
   "id": "dd52e401-8e42-4d2c-9dec-d318cc586d7a",
   "metadata": {},
   "outputs": [],
   "source": [
    "os.chdir('C:\\\\Users\\griff\\AFRL_2024')"
   ]
  },
  {
   "cell_type": "code",
   "execution_count": 4,
   "id": "bdb80966-5f8e-4aa6-9aa5-bb3a2af43039",
   "metadata": {},
   "outputs": [],
   "source": [
    "file = 'd303sA2r03p0220210824.wav'"
   ]
  },
  {
   "cell_type": "code",
   "execution_count": 8,
   "id": "98ec72b2-831d-4f01-a721-5c67128dd665",
   "metadata": {
    "scrolled": true
   },
   "outputs": [
    {
     "name": "stdout",
     "output_type": "stream",
     "text": [
      "Saved d303sA2r03p0220210824/chunk_1.wav\n",
      "Saved d303sA2r03p0220210824/chunk_2.wav\n",
      "Saved d303sA2r03p0220210824/chunk_3.wav\n",
      "Saved d303sA2r03p0220210824/chunk_4.wav\n",
      "Saved d303sA2r03p0220210824/chunk_5.wav\n",
      "Saved d303sA2r03p0220210824/chunk_6.wav\n",
      "Saved d303sA2r03p0220210824/chunk_7.wav\n",
      "Saved d303sA2r03p0220210824/chunk_8.wav\n",
      "Saved d303sA2r03p0220210824/chunk_9.wav\n",
      "Saved d303sA2r03p0220210824/chunk_10.wav\n",
      "Saved d303sA2r03p0220210824/chunk_11.wav\n",
      "Saved d303sA2r03p0220210824/chunk_12.wav\n",
      "Saved d303sA2r03p0220210824/chunk_13.wav\n",
      "Saved d303sA2r03p0220210824/chunk_14.wav\n",
      "Saved d303sA2r03p0220210824/chunk_15.wav\n",
      "Saved d303sA2r03p0220210824/chunk_16.wav\n",
      "Saved d303sA2r03p0220210824/chunk_17.wav\n",
      "Saved d303sA2r03p0220210824/chunk_18.wav\n",
      "Saved d303sA2r03p0220210824/chunk_19.wav\n"
     ]
    }
   ],
   "source": [
    "segment_audio(file, 'd303sA2r03p0220210824')"
   ]
  },
  {
   "cell_type": "code",
   "execution_count": 9,
   "id": "b70c2004-d41d-42a3-8fc3-2a232f3055fc",
   "metadata": {
    "scrolled": true
   },
   "outputs": [
    {
     "name": "stdout",
     "output_type": "stream",
     "text": [
      "25th Percentile Energy: 159.8631820678711\n",
      "Renamed C:\\Users\\griff\\AFRL_2024/d303sA2r03p0220210824\\chunk_1.wav to C:\\Users\\griff\\AFRL_2024/d303sA2r03p0220210824\\d303sA2r03p0220210824.wav_noDrone_chunk_1.wav\n",
      "Renamed C:\\Users\\griff\\AFRL_2024/d303sA2r03p0220210824\\chunk_10.wav to C:\\Users\\griff\\AFRL_2024/d303sA2r03p0220210824\\d303sA2r03p0220210824.wav_drone_chunk_10.wav\n",
      "Renamed C:\\Users\\griff\\AFRL_2024/d303sA2r03p0220210824\\chunk_11.wav to C:\\Users\\griff\\AFRL_2024/d303sA2r03p0220210824\\d303sA2r03p0220210824.wav_drone_chunk_11.wav\n",
      "Renamed C:\\Users\\griff\\AFRL_2024/d303sA2r03p0220210824\\chunk_12.wav to C:\\Users\\griff\\AFRL_2024/d303sA2r03p0220210824\\d303sA2r03p0220210824.wav_drone_chunk_12.wav\n",
      "Renamed C:\\Users\\griff\\AFRL_2024/d303sA2r03p0220210824\\chunk_13.wav to C:\\Users\\griff\\AFRL_2024/d303sA2r03p0220210824\\d303sA2r03p0220210824.wav_drone_chunk_13.wav\n",
      "Renamed C:\\Users\\griff\\AFRL_2024/d303sA2r03p0220210824\\chunk_14.wav to C:\\Users\\griff\\AFRL_2024/d303sA2r03p0220210824\\d303sA2r03p0220210824.wav_drone_chunk_14.wav\n",
      "Renamed C:\\Users\\griff\\AFRL_2024/d303sA2r03p0220210824\\chunk_15.wav to C:\\Users\\griff\\AFRL_2024/d303sA2r03p0220210824\\d303sA2r03p0220210824.wav_drone_chunk_15.wav\n",
      "Renamed C:\\Users\\griff\\AFRL_2024/d303sA2r03p0220210824\\chunk_16.wav to C:\\Users\\griff\\AFRL_2024/d303sA2r03p0220210824\\d303sA2r03p0220210824.wav_drone_chunk_16.wav\n",
      "Renamed C:\\Users\\griff\\AFRL_2024/d303sA2r03p0220210824\\chunk_17.wav to C:\\Users\\griff\\AFRL_2024/d303sA2r03p0220210824\\d303sA2r03p0220210824.wav_drone_chunk_17.wav\n",
      "Renamed C:\\Users\\griff\\AFRL_2024/d303sA2r03p0220210824\\chunk_18.wav to C:\\Users\\griff\\AFRL_2024/d303sA2r03p0220210824\\d303sA2r03p0220210824.wav_drone_chunk_18.wav\n",
      "Renamed C:\\Users\\griff\\AFRL_2024/d303sA2r03p0220210824\\chunk_19.wav to C:\\Users\\griff\\AFRL_2024/d303sA2r03p0220210824\\d303sA2r03p0220210824.wav_noDrone_chunk_19.wav\n",
      "Renamed C:\\Users\\griff\\AFRL_2024/d303sA2r03p0220210824\\chunk_2.wav to C:\\Users\\griff\\AFRL_2024/d303sA2r03p0220210824\\d303sA2r03p0220210824.wav_noDrone_chunk_2.wav\n",
      "Renamed C:\\Users\\griff\\AFRL_2024/d303sA2r03p0220210824\\chunk_3.wav to C:\\Users\\griff\\AFRL_2024/d303sA2r03p0220210824\\d303sA2r03p0220210824.wav_noDrone_chunk_3.wav\n",
      "Renamed C:\\Users\\griff\\AFRL_2024/d303sA2r03p0220210824\\chunk_4.wav to C:\\Users\\griff\\AFRL_2024/d303sA2r03p0220210824\\d303sA2r03p0220210824.wav_noDrone_chunk_4.wav\n",
      "Renamed C:\\Users\\griff\\AFRL_2024/d303sA2r03p0220210824\\chunk_5.wav to C:\\Users\\griff\\AFRL_2024/d303sA2r03p0220210824\\d303sA2r03p0220210824.wav_drone_chunk_5.wav\n",
      "Renamed C:\\Users\\griff\\AFRL_2024/d303sA2r03p0220210824\\chunk_6.wav to C:\\Users\\griff\\AFRL_2024/d303sA2r03p0220210824\\d303sA2r03p0220210824.wav_drone_chunk_6.wav\n",
      "Renamed C:\\Users\\griff\\AFRL_2024/d303sA2r03p0220210824\\chunk_7.wav to C:\\Users\\griff\\AFRL_2024/d303sA2r03p0220210824\\d303sA2r03p0220210824.wav_drone_chunk_7.wav\n",
      "Renamed C:\\Users\\griff\\AFRL_2024/d303sA2r03p0220210824\\chunk_8.wav to C:\\Users\\griff\\AFRL_2024/d303sA2r03p0220210824\\d303sA2r03p0220210824.wav_drone_chunk_8.wav\n",
      "Renamed C:\\Users\\griff\\AFRL_2024/d303sA2r03p0220210824\\chunk_9.wav to C:\\Users\\griff\\AFRL_2024/d303sA2r03p0220210824\\d303sA2r03p0220210824.wav_drone_chunk_9.wav\n"
     ]
    }
   ],
   "source": [
    "def compute_energy(signal):\n",
    "    #helper function to get energy\n",
    "    return np.sum(signal ** 2)\n",
    "\n",
    "def analyze_and_rename_chunks(input_dir):\n",
    "    chunk_files = [os.path.join(input_dir, f) for f in os.listdir(input_dir) if f.endswith('.wav')]\n",
    "    energies = []\n",
    "\n",
    "    #get energy of each chunk and combine into one array\n",
    "    for chunk_file in chunk_files:\n",
    "        y, sr = librosa.load(chunk_file, sr=None)\n",
    "        energy = compute_energy(y)\n",
    "        energies.append(energy)\n",
    "\n",
    "    energies = np.array(energies)\n",
    "\n",
    "    # find 25th percentile of energy\n",
    "    percentile_25 = np.percentile(energies, 25)\n",
    "    print(f\"25th Percentile Energy: {percentile_25}\")\n",
    "\n",
    "    #sort and rename based on the energy of each file when compared with the 25th percentile\n",
    "    for chunk_file, energy in zip(chunk_files, energies):\n",
    "        base_name = os.path.basename(chunk_file)\n",
    "        dir_name = os.path.dirname(chunk_file)\n",
    "        if energy > percentile_25:\n",
    "            new_name = f\"{file}_drone_{base_name}\"\n",
    "        else:\n",
    "            new_name = f\"{file}_noDrone_{base_name}\"\n",
    "        new_path = os.path.join(dir_name, new_name)\n",
    "        os.rename(chunk_file, new_path)\n",
    "        print(f\"Renamed {chunk_file} to {new_path}\")\n",
    "\n",
    "\n",
    "    return energies\n",
    "\n",
    "input_dir = os.getcwd() + '/d303sA2r03p0220210824' \n",
    "\n",
    "energies = analyze_and_rename_chunks(input_dir)"
   ]
  }
 ],
 "metadata": {
  "kernelspec": {
   "display_name": "Python 3 (ipykernel)",
   "language": "python",
   "name": "python3"
  },
  "language_info": {
   "codemirror_mode": {
    "name": "ipython",
    "version": 3
   },
   "file_extension": ".py",
   "mimetype": "text/x-python",
   "name": "python",
   "nbconvert_exporter": "python",
   "pygments_lexer": "ipython3",
   "version": "3.9.19"
  }
 },
 "nbformat": 4,
 "nbformat_minor": 5
}
