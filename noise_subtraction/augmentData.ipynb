{
 "cells": [
  {
   "cell_type": "code",
   "execution_count": 1,
   "id": "936da38f-3b23-4017-ac86-86fe9c3b5f0a",
   "metadata": {
    "scrolled": true
   },
   "outputs": [],
   "source": [
    "import numpy as np\n",
    "from pydub import AudioSegment\n",
    "import os\n",
    "import glob\n",
    "import librosa"
   ]
  },
  {
   "cell_type": "code",
   "execution_count": 4,
   "id": "7aaa9567-6bb9-419d-ac1c-59438c347581",
   "metadata": {},
   "outputs": [
    {
     "name": "stdout",
     "output_type": "stream",
     "text": [
      "ffmpeg: C:\\Users\\griff\\anaconda3\\envs\\audioSeparation\\Library\\bin\\ffmpeg.exe\n",
      "avconv: None\n"
     ]
    }
   ],
   "source": [
    "# Check if ffmpeg is correctly installed\n",
    "from pydub.utils import which\n",
    "\n",
    "print(\"ffmpeg:\", which(\"ffmpeg\"))"
   ]
  },
  {
   "cell_type": "code",
   "execution_count": 2,
   "id": "45b6e7f5-01f7-4001-9ab1-7cd89851c0a5",
   "metadata": {},
   "outputs": [],
   "source": [
    "os.chdir('C:\\\\Users\\griff\\AFRL_2024\\d303sA2r03p0220210824')"
   ]
  },
  {
   "cell_type": "code",
   "execution_count": 3,
   "id": "8ebd7843-524c-4000-b63e-f1dfade5ad1c",
   "metadata": {},
   "outputs": [
    {
     "name": "stdout",
     "output_type": "stream",
     "text": [
      "C:\\Users\\griff\\AFRL_2024\\d303sA2r03p0220210824\\chunk_1.wav\n",
      "C:\\Users\\griff\\AFRL_2024\\d303sA2r03p0220210824\\chunk_10.wav\n",
      "C:\\Users\\griff\\AFRL_2024\\d303sA2r03p0220210824\\chunk_11.wav\n",
      "C:\\Users\\griff\\AFRL_2024\\d303sA2r03p0220210824\\chunk_12.wav\n",
      "C:\\Users\\griff\\AFRL_2024\\d303sA2r03p0220210824\\chunk_13.wav\n",
      "C:\\Users\\griff\\AFRL_2024\\d303sA2r03p0220210824\\chunk_14.wav\n",
      "C:\\Users\\griff\\AFRL_2024\\d303sA2r03p0220210824\\chunk_15.wav\n",
      "C:\\Users\\griff\\AFRL_2024\\d303sA2r03p0220210824\\chunk_16.wav\n",
      "C:\\Users\\griff\\AFRL_2024\\d303sA2r03p0220210824\\chunk_17.wav\n",
      "C:\\Users\\griff\\AFRL_2024\\d303sA2r03p0220210824\\chunk_18.wav\n",
      "C:\\Users\\griff\\AFRL_2024\\d303sA2r03p0220210824\\chunk_19.wav\n",
      "C:\\Users\\griff\\AFRL_2024\\d303sA2r03p0220210824\\chunk_2.wav\n",
      "C:\\Users\\griff\\AFRL_2024\\d303sA2r03p0220210824\\chunk_3.wav\n",
      "C:\\Users\\griff\\AFRL_2024\\d303sA2r03p0220210824\\chunk_4.wav\n",
      "C:\\Users\\griff\\AFRL_2024\\d303sA2r03p0220210824\\chunk_5.wav\n",
      "C:\\Users\\griff\\AFRL_2024\\d303sA2r03p0220210824\\chunk_6.wav\n",
      "C:\\Users\\griff\\AFRL_2024\\d303sA2r03p0220210824\\chunk_7.wav\n",
      "C:\\Users\\griff\\AFRL_2024\\d303sA2r03p0220210824\\chunk_8.wav\n",
      "C:\\Users\\griff\\AFRL_2024\\d303sA2r03p0220210824\\chunk_9.wav\n"
     ]
    }
   ],
   "source": [
    "mean = 1.0  \n",
    "std_dev = 0.1  \n",
    "\n",
    "n_augments = 5\n",
    "\n",
    "chunk_files = glob.glob(\"chunk_*.wav\")\n",
    "chunk_files = [os.path.abspath(file) for file in chunk_files]\n",
    "\n",
    "audio_chunks = []\n",
    "for file in chunk_files:\n",
    "    print(file)\n",
    "    try:\n",
    "        audio_chunks.append(AudioSegment.from_file(file))\n",
    "    except Exception as e:\n",
    "        print(f\"Error loading {file}: {e}\")\n",
    "\n",
    "def apply_volume_change(audio_chunk, volume_factor):\n",
    "    return audio_chunk + 10 * np.log10(volume_factor)\n",
    "\n",
    "# Apply volume changes and save augmented samples\n",
    "augmented_samples = []\n",
    "for i, chunk in enumerate(audio_chunks):\n",
    "    for j in range(n_augments):\n",
    "        volume_factor = np.random.normal(loc=mean, scale=std_dev)\n",
    "        augmented_chunk = apply_volume_change(chunk, volume_factor)\n",
    "        augmented_chunk.export(f\"augmented_chunk_{i}_{j}.wav\", format=\"wav\")\n",
    "        augmented_samples.append(augmented_chunk)\n"
   ]
  }
 ],
 "metadata": {
  "kernelspec": {
   "display_name": "Python 3 (ipykernel)",
   "language": "python",
   "name": "python3"
  },
  "language_info": {
   "codemirror_mode": {
    "name": "ipython",
    "version": 3
   },
   "file_extension": ".py",
   "mimetype": "text/x-python",
   "name": "python",
   "nbconvert_exporter": "python",
   "pygments_lexer": "ipython3",
   "version": "3.9.19"
  }
 },
 "nbformat": 4,
 "nbformat_minor": 5
}
